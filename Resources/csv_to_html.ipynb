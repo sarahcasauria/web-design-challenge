{
 "cells": [
  {
   "cell_type": "code",
   "execution_count": 1,
   "id": "9cb14d8a",
   "metadata": {},
   "outputs": [],
   "source": [
    "import pandas as pd"
   ]
  },
  {
   "cell_type": "code",
   "execution_count": 2,
   "id": "d6a19d3f",
   "metadata": {},
   "outputs": [
    {
     "data": {
      "text/html": [
       "<div>\n",
       "<style scoped>\n",
       "    .dataframe tbody tr th:only-of-type {\n",
       "        vertical-align: middle;\n",
       "    }\n",
       "\n",
       "    .dataframe tbody tr th {\n",
       "        vertical-align: top;\n",
       "    }\n",
       "\n",
       "    .dataframe thead th {\n",
       "        text-align: right;\n",
       "    }\n",
       "</style>\n",
       "<table border=\"1\" class=\"dataframe\">\n",
       "  <thead>\n",
       "    <tr style=\"text-align: right;\">\n",
       "      <th></th>\n",
       "      <th>City ID</th>\n",
       "      <th>City</th>\n",
       "      <th>Latitude</th>\n",
       "      <th>Longitude</th>\n",
       "      <th>Max Temp</th>\n",
       "      <th>Humidity</th>\n",
       "      <th>Cloudiness</th>\n",
       "      <th>Wind Speed</th>\n",
       "      <th>Country</th>\n",
       "      <th>Date</th>\n",
       "    </tr>\n",
       "  </thead>\n",
       "  <tbody>\n",
       "    <tr>\n",
       "      <th>0</th>\n",
       "      <td>0</td>\n",
       "      <td>Chui</td>\n",
       "      <td>-33.6971</td>\n",
       "      <td>-53.4616</td>\n",
       "      <td>15.89</td>\n",
       "      <td>89</td>\n",
       "      <td>100</td>\n",
       "      <td>6.81</td>\n",
       "      <td>UY</td>\n",
       "      <td>1647652775</td>\n",
       "    </tr>\n",
       "    <tr>\n",
       "      <th>1</th>\n",
       "      <td>1</td>\n",
       "      <td>Hithadhoo</td>\n",
       "      <td>-0.6000</td>\n",
       "      <td>73.0833</td>\n",
       "      <td>28.40</td>\n",
       "      <td>74</td>\n",
       "      <td>100</td>\n",
       "      <td>7.42</td>\n",
       "      <td>MV</td>\n",
       "      <td>1647652579</td>\n",
       "    </tr>\n",
       "    <tr>\n",
       "      <th>2</th>\n",
       "      <td>2</td>\n",
       "      <td>Richards Bay</td>\n",
       "      <td>-28.7830</td>\n",
       "      <td>32.0377</td>\n",
       "      <td>18.26</td>\n",
       "      <td>85</td>\n",
       "      <td>9</td>\n",
       "      <td>1.92</td>\n",
       "      <td>ZA</td>\n",
       "      <td>1647652776</td>\n",
       "    </tr>\n",
       "    <tr>\n",
       "      <th>3</th>\n",
       "      <td>3</td>\n",
       "      <td>Ahipara</td>\n",
       "      <td>-35.1667</td>\n",
       "      <td>173.1667</td>\n",
       "      <td>20.66</td>\n",
       "      <td>77</td>\n",
       "      <td>27</td>\n",
       "      <td>2.72</td>\n",
       "      <td>NZ</td>\n",
       "      <td>1647652777</td>\n",
       "    </tr>\n",
       "    <tr>\n",
       "      <th>4</th>\n",
       "      <td>4</td>\n",
       "      <td>Punta Arenas</td>\n",
       "      <td>-53.1500</td>\n",
       "      <td>-70.9167</td>\n",
       "      <td>5.62</td>\n",
       "      <td>65</td>\n",
       "      <td>0</td>\n",
       "      <td>2.06</td>\n",
       "      <td>CL</td>\n",
       "      <td>1647652551</td>\n",
       "    </tr>\n",
       "  </tbody>\n",
       "</table>\n",
       "</div>"
      ],
      "text/plain": [
       "   City ID          City  Latitude  Longitude  Max Temp  Humidity  Cloudiness  \\\n",
       "0        0          Chui  -33.6971   -53.4616     15.89        89         100   \n",
       "1        1     Hithadhoo   -0.6000    73.0833     28.40        74         100   \n",
       "2        2  Richards Bay  -28.7830    32.0377     18.26        85           9   \n",
       "3        3       Ahipara  -35.1667   173.1667     20.66        77          27   \n",
       "4        4  Punta Arenas  -53.1500   -70.9167      5.62        65           0   \n",
       "\n",
       "   Wind Speed Country        Date  \n",
       "0        6.81      UY  1647652775  \n",
       "1        7.42      MV  1647652579  \n",
       "2        1.92      ZA  1647652776  \n",
       "3        2.72      NZ  1647652777  \n",
       "4        2.06      CL  1647652551  "
      ]
     },
     "execution_count": 2,
     "metadata": {},
     "output_type": "execute_result"
    }
   ],
   "source": [
    "df = pd.read_csv('weatherpy_cities.csv', encoding = 'utf-8')\n",
    "\n",
    "df.head()"
   ]
  },
  {
   "cell_type": "code",
   "execution_count": 5,
   "id": "c9a16284",
   "metadata": {},
   "outputs": [],
   "source": [
    "df.to_html('../data.html')"
   ]
  },
  {
   "cell_type": "code",
   "execution_count": null,
   "id": "e228a364",
   "metadata": {},
   "outputs": [],
   "source": []
  }
 ],
 "metadata": {
  "kernelspec": {
   "display_name": "Python 3",
   "language": "python",
   "name": "python3"
  },
  "language_info": {
   "codemirror_mode": {
    "name": "ipython",
    "version": 3
   },
   "file_extension": ".py",
   "mimetype": "text/x-python",
   "name": "python",
   "nbconvert_exporter": "python",
   "pygments_lexer": "ipython3",
   "version": "3.6.10"
  }
 },
 "nbformat": 4,
 "nbformat_minor": 5
}
